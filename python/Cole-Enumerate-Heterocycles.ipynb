{
 "cells": [
  {
   "cell_type": "markdown",
   "metadata": {},
   "source": [
    "## Generating aromatic heterocycles with reaction SMARTS (SMIRKS)\n",
    "Brian Cole, Miklos Feher, and Siduo Jiang\n",
    "\n",
    "Copyright 2017, D. E. Shaw Research. All rights reserved.\n",
    "\n",
    "Aromatic rings compose the core scaffold of almost all drug-like molecules.  The ability to generate reasonable heterocycles from any aromatic system enables thorough exploration of potential core structures.  We describe 42 hand-tuned reaction SMARTS (SMIRKS) patterns that perform single-atom mutations on aromatic rings.  These reaction patterns enable the enumeration of all relevant heterocycles of a given graph skeleton, while maintaining RDKit’s definition of aromaticity.  Our hope in releasing these patterns to the community is to receive feedback on the robustness and completeness of our definitions, and to enable validation of larger regions of chemical space which we previously have not tested."
   ]
  },
  {
   "cell_type": "code",
   "execution_count": 2,
   "metadata": {},
   "outputs": [],
   "source": [
    "from __future__ import print_function\n",
    "from rdkit import Chem\n",
    "from rdkit.Chem import Draw\n",
    "from rdkit.Chem import AllChem\n",
    "from rdkit.Chem.Draw import IPythonConsole"
   ]
  },
  {
   "cell_type": "markdown",
   "metadata": {},
   "source": [
    "### Given pyridine: generate pyridazine, pyrimidine, and pyrazine"
   ]
  },
  {
   "cell_type": "code",
   "execution_count": 3,
   "metadata": {},
   "outputs": [
    {
     "data": {
      "image/png": "[encoded data removed]",
      "text/plain": [
       "<rdkit.Chem.rdchem.Mol at 0x2b546a519280>"
      ]
     },
     "execution_count": 3,
     "metadata": {},
     "output_type": "execute_result"
    }
   ],
   "source": [
    "mol = Chem.MolFromSmiles('c1ccccn1')\n",
    "mol"
   ]
  },
  {
   "cell_type": "code",
   "execution_count": 4,
   "metadata": {},
   "outputs": [
    {
     "data": {
      "image/png": "[encoded data removed]",
      "text/plain": [
       "<IPython.core.display.Image object>"
      ]
     },
     "execution_count": 4,
     "metadata": {},
     "output_type": "execute_result"
    }
   ],
   "source": [
    "reaction = '[c;h1;D2;r6:1]>>[n:1]'\n",
    "rxn = AllChem.ReactionFromSmarts(reaction)\n",
    "Draw.MolsToGridImage([m[0] for m in rxn.RunReactants((mol,))], molsPerRow=5)"
   ]
  },
  {
   "cell_type": "markdown",
   "metadata": {},
   "source": [
    "## How to do that for all heterocycles?\n",
    "Write a whole bunch more SMIRKS (reaction SMARTS?)"
   ]
  },
  {
   "cell_type": "code",
   "execution_count": 5,
   "metadata": {},
   "outputs": [
    {
     "data": {
      "text/html": [
       "<div>\n",
       "<style scoped>\n",
       "    .dataframe tbody tr th:only-of-type {\n",
       "        vertical-align: middle;\n",
       "    }\n",
       "\n",
       "    .dataframe tbody tr th {\n",
       "        vertical-align: top;\n",
       "    }\n",
       "\n",
       "    .dataframe thead th {\n",
       "        text-align: right;\n",
       "    }\n",
       "</style>\n",
       "<table border=\"1\" class=\"dataframe\">\n",
       "  <thead>\n",
       "    <tr style=\"text-align: right;\">\n",
       "      <th></th>\n",
       "      <th>SMARTS</th>\n",
       "      <th>CONVERT_FROM</th>\n",
       "      <th>CONVERT_TO</th>\n",
       "      <th>EXAMPLE</th>\n",
       "      <th>NEGATIVE_EXAMPLE</th>\n",
       "      <th>DESCRIPTION</th>\n",
       "    </tr>\n",
       "  </thead>\n",
       "  <tbody>\n",
       "    <tr>\n",
       "      <th>0</th>\n",
       "      <td>[c;x2;D2;r5:1]([n;x2;r5:2])[n;x2;r5:3]</td>\n",
       "      <td>c</td>\n",
       "      <td>[n:1]([n:2])[n:3]</td>\n",
       "      <td>c1nc[nH]c1,c1ncn([*])c1,c1nncn([*])1</td>\n",
       "      <td>NaN</td>\n",
       "      <td>aromatic carbon in 5 membered ring, bonded to ...</td>\n",
       "    </tr>\n",
       "    <tr>\n",
       "      <th>1</th>\n",
       "      <td>[c;x2;D2;r5:1]([n;h1;!+;!-;x2;r5;!$(*=*);!$(*[...</td>\n",
       "      <td>c</td>\n",
       "      <td>[o:1]([n;H0:2])[n;H0:3],[s:1]([n;H0:2])[n;H0:3]</td>\n",
       "      <td>c1nc[nH]c1,[*]c1nc[nH]c1</td>\n",
       "      <td>[*]c1ncno1,[*]n1[nH]cnc1=O,[*]c1nc2[nH]cnn2c(=...</td>\n",
       "      <td>aromatic carbon in 5 membered ring, bonded to ...</td>\n",
       "    </tr>\n",
       "    <tr>\n",
       "      <th>2</th>\n",
       "      <td>[c;x2;D2;r5:1]([n;h1;!+;!-;x2;r5;!$(*=*);!$(*[...</td>\n",
       "      <td>c</td>\n",
       "      <td>[o:1]([n;H0:2])[n;H0:3],[s:1]([n;H0:2])[n;H0:3]</td>\n",
       "      <td>c1ccc2c(c1)[nH]cn2</td>\n",
       "      <td>[*]c1ncno1,[*]n1[nH]cnc1=O,[*]c1nc2[nH]cnn2c(=...</td>\n",
       "      <td>aromatic carbon in 5 membered ring, bonded to ...</td>\n",
       "    </tr>\n",
       "    <tr>\n",
       "      <th>3</th>\n",
       "      <td>[c;x2;D2;r5:1]([c;x2;r5:2])[o,s;x2;r5:3]</td>\n",
       "      <td>c</td>\n",
       "      <td>[n:1]([c:2])[*:3]</td>\n",
       "      <td>[*]c1ccoc1,c1ccoc1[*],n1ccoc1[*]</td>\n",
       "      <td>NaN</td>\n",
       "      <td>aromatic carbon in 5 membered ring, bonded to ...</td>\n",
       "    </tr>\n",
       "    <tr>\n",
       "      <th>4</th>\n",
       "      <td>[c;x2;D2;r5:1]([c;r5:2])[n;r5;h0;!-;!+:3]</td>\n",
       "      <td>c</td>\n",
       "      <td>[n:1]([c:2])[n:3]</td>\n",
       "      <td>c1nc[nH]c1[*],n1cc[nH]c1[*],n1cc[nH][n+]1[*],[...</td>\n",
       "      <td>NaN</td>\n",
       "      <td>aromatic carbon in 5 membered ring, bonded to ...</td>\n",
       "    </tr>\n",
       "    <tr>\n",
       "      <th>5</th>\n",
       "      <td>[c;x2;D2;r5:1]([c;x2;r5:2])[n;x2;r5;h1;+:3]</td>\n",
       "      <td>c</td>\n",
       "      <td>[n:1]([c:2])[n:3]</td>\n",
       "      <td>c1c([*])sc[nH+]1,c1csc([*])[nH+]1</td>\n",
       "      <td>NaN</td>\n",
       "      <td>aromatic carbon in 5 membered ring, bonded to ...</td>\n",
       "    </tr>\n",
       "    <tr>\n",
       "      <th>6</th>\n",
       "      <td>[c;x2;D2;r5:1]([c:2])[n;x2;r5;h1;!+;!-:3]</td>\n",
       "      <td>c</td>\n",
       "      <td>[n:1]([c:2])[n:3]</td>\n",
       "      <td>[*]n1[nH]ccc1=O,[*]n1cc[nH]c1=O,[*]c1nc2[nH]cc...</td>\n",
       "      <td>[*]c1cn2ccnc2nc1[*]</td>\n",
       "      <td>aromatic carbon in 5 membered ring, bonded to ...</td>\n",
       "    </tr>\n",
       "    <tr>\n",
       "      <th>7</th>\n",
       "      <td>[c;x2;D2;r5:1]([c;x2;r5;!$(*=*);!$(*[*;r5]=*);...</td>\n",
       "      <td>c</td>\n",
       "      <td>[o:1]([c:2])[n;H0:3],[s:1]([c:2])[n;H0:3]</td>\n",
       "      <td>[*]c1ccc[nH]1,[*]c1ncc[nH]1,[*][n+]1ccc[nH]1,[...</td>\n",
       "      <td>c1ccc2c(c1)cc[nH]2,[*]n1[nH]ccc1=O,[*]n1cc[nH]...</td>\n",
       "      <td>aromatic carbon in 5 membered ring, bonded to ...</td>\n",
       "    </tr>\n",
       "    <tr>\n",
       "      <th>8</th>\n",
       "      <td>[c;x2;D2;r5:1]([c;x2;r5:2])[n;h0;+;x2;r5:3]</td>\n",
       "      <td>c</td>\n",
       "      <td>[n:1]([c:2])[n:3]</td>\n",
       "      <td>CC[n+]1ccco1,[*][n+]1ccco1,[*][n+]1ccc[nH]1</td>\n",
       "      <td>NaN</td>\n",
       "      <td>aromatic carbon in 5 membered ring, bonded to ...</td>\n",
       "    </tr>\n",
       "    <tr>\n",
       "      <th>9</th>\n",
       "      <td>[c;x2;D2;r5:1]([c;x2;r5:2])[n;h0;+;x2;r5:3][n;...</td>\n",
       "      <td>c</td>\n",
       "      <td>[o:1]([c:2])[n:3][n;H0:4],[s:1]([c:2])[n:3][n;...</td>\n",
       "      <td>[*][n+]1ccc[nH]1</td>\n",
       "      <td>CC[n+]1ccco1,[*][n+]1ccco1</td>\n",
       "      <td>aromatic carbon in 5 membered ring, bonded to ...</td>\n",
       "    </tr>\n",
       "    <tr>\n",
       "      <th>10</th>\n",
       "      <td>[c;x2;D2;r5:1]([c;x2;r5:2])[c;x2;r5:3][o,s;x2;...</td>\n",
       "      <td>c</td>\n",
       "      <td>[n:1]([c:2])[c:3][*:4]</td>\n",
       "      <td>s1cccn1,o1c([*])ccn1</td>\n",
       "      <td>s1cc([*])cn1</td>\n",
       "      <td>aromatic carbon in 5 membered ring, bonded to ...</td>\n",
       "    </tr>\n",
       "    <tr>\n",
       "      <th>11</th>\n",
       "      <td>[!o;!s;r5:1]1~[c;r5:2]~[c;x2;D2;r5:3]~[c;r5:4]...</td>\n",
       "      <td>c</td>\n",
       "      <td>[*:1]1~[c:2]~[n:3]~[c:4]~[*:5]~1</td>\n",
       "      <td>[*]c1cc[nH]c1,[*]n1cccc1,[*]n1ccc2nccc-2c1</td>\n",
       "      <td>NaN</td>\n",
       "      <td>aromatic carbon in 5 membered ring, bonded to ...</td>\n",
       "    </tr>\n",
       "    <tr>\n",
       "      <th>12</th>\n",
       "      <td>[n;h1;!+;!-;r5:1]1~[c;!$(*=*);r5:2]~[c;x2;D2;r...</td>\n",
       "      <td>c</td>\n",
       "      <td>[n;H0:1]1~[c:2]~[o:3]~[c:4]~[*:5]1,[n;H0:1]1~[...</td>\n",
       "      <td>c1cc[nH]c1,c1ccc2c(c1)cc[nH]2</td>\n",
       "      <td>[*]n1cccc1,[*]n1cc([*])cc1,[*]n1ccc(=O)[nH]1</td>\n",
       "      <td>aromatic carbon in 5 membered ring, bonded to ...</td>\n",
       "    </tr>\n",
       "    <tr>\n",
       "      <th>13</th>\n",
       "      <td>[c;h1;D2;r6;$(a1ccc[c,n,o][c,n,o]1),$(a1cc[c,n...</td>\n",
       "      <td>c</td>\n",
       "      <td>[n:1]</td>\n",
       "      <td>c1ccccc1,c1cccnc1,c1nccnc1,[*]c1cc(=O)cco1,c1c...</td>\n",
       "      <td>NaN</td>\n",
       "      <td>aromatic carbon in 6 membered ring, has 1H, ri...</td>\n",
       "    </tr>\n",
       "    <tr>\n",
       "      <th>14</th>\n",
       "      <td>[n;x2;r5;h1;!+;!-;!$(*[o,s]):1]</td>\n",
       "      <td>n</td>\n",
       "      <td>[o:1],[s:1]</td>\n",
       "      <td>c1n[nH]nn1,c1cc[nH]c1</td>\n",
       "      <td>c1ccn([*])c1,[*]c1o[nH]c(=O)c1[*]</td>\n",
       "      <td>aromatic nitrogen in 5 membered ring, 1H, no c...</td>\n",
       "    </tr>\n",
       "    <tr>\n",
       "      <th>15</th>\n",
       "      <td>[n;x2;X2;r5;h0;!+;!-;$(*[a;r5][a;r5]):1]</td>\n",
       "      <td>n</td>\n",
       "      <td>[c:1]</td>\n",
       "      <td>c1cnc[nH]1</td>\n",
       "      <td>c1ccn([*])c1</td>\n",
       "      <td>aromatic nitrogen in 5 membered ring, bonded t...</td>\n",
       "    </tr>\n",
       "    <tr>\n",
       "      <th>16</th>\n",
       "      <td>NaN</td>\n",
       "      <td>n</td>\n",
       "      <td>No mutations</td>\n",
       "      <td>NaN</td>\n",
       "      <td>NaN</td>\n",
       "      <td>aromatic nitrogen in 5 membered ring, bonded t...</td>\n",
       "    </tr>\n",
       "    <tr>\n",
       "      <th>17</th>\n",
       "      <td>[n;x2;X3;r5;+;$(*[a;r5][a;r5]):1]</td>\n",
       "      <td>n</td>\n",
       "      <td>[c:1]</td>\n",
       "      <td>c1coc[n+]1C</td>\n",
       "      <td>NaN</td>\n",
       "      <td>aromatic nitrogen in 5 membered ring, bonded t...</td>\n",
       "    </tr>\n",
       "    <tr>\n",
       "      <th>18</th>\n",
       "      <td>[n;x2;X2;r6;h0;!+;!-;$(*[a;r6][a;r6]):1]</td>\n",
       "      <td>n</td>\n",
       "      <td>[c:1]</td>\n",
       "      <td>c1cccnc1,c1nccnc1</td>\n",
       "      <td>NaN</td>\n",
       "      <td>aromatic nitrogen in 6 membered ring, bonded t...</td>\n",
       "    </tr>\n",
       "    <tr>\n",
       "      <th>19</th>\n",
       "      <td>NaN</td>\n",
       "      <td>n</td>\n",
       "      <td>No mutations</td>\n",
       "      <td>NaN</td>\n",
       "      <td>NaN</td>\n",
       "      <td>aromatic nitrogen in 6 membered ring, bonded t...</td>\n",
       "    </tr>\n",
       "    <tr>\n",
       "      <th>20</th>\n",
       "      <td>[n;x2;r6;h1;+;$(*[a;r6][a;r6]):1]</td>\n",
       "      <td>n</td>\n",
       "      <td>[c:1]</td>\n",
       "      <td>c1ccc2c(c1)ccc[nH+]2</td>\n",
       "      <td>NaN</td>\n",
       "      <td>aromatic nitrogen in 6 membered ring, bonded t...</td>\n",
       "    </tr>\n",
       "    <tr>\n",
       "      <th>21</th>\n",
       "      <td>[n;x2;r6;X3;+;$(*[a;r6][a;r6]):1]</td>\n",
       "      <td>n</td>\n",
       "      <td>[c:1]</td>\n",
       "      <td>[*][n+]1cccc2c1cccc2</td>\n",
       "      <td>NaN</td>\n",
       "      <td>aromatic nitrogen in 6 membered ring, bonded t...</td>\n",
       "    </tr>\n",
       "    <tr>\n",
       "      <th>22</th>\n",
       "      <td>NaN</td>\n",
       "      <td>n</td>\n",
       "      <td>No mutations</td>\n",
       "      <td>NaN</td>\n",
       "      <td>NaN</td>\n",
       "      <td>aromatic nitrogen in 6 membered ring, bonded t...</td>\n",
       "    </tr>\n",
       "    <tr>\n",
       "      <th>23</th>\n",
       "      <td>[s;x2;r5;!+;!-;$(*([c;r5])[c;r5]):1]</td>\n",
       "      <td>s</td>\n",
       "      <td>[n;H1:1],[o:1]</td>\n",
       "      <td>c1ccsc1,c1ncsc1</td>\n",
       "      <td>NaN</td>\n",
       "      <td>aromatic sulfur in 5 membered ring, bonded to ...</td>\n",
       "    </tr>\n",
       "    <tr>\n",
       "      <th>24</th>\n",
       "      <td>[o;x2;r5;!+;!-;$(*([c;r5])[c;r5]):1]</td>\n",
       "      <td>o</td>\n",
       "      <td>[n;H1:1],[s:1]</td>\n",
       "      <td>c1ccoc1,c1ncoc1</td>\n",
       "      <td>NaN</td>\n",
       "      <td>aromatic oxygen in 5 membered ring, bonded to ...</td>\n",
       "    </tr>\n",
       "    <tr>\n",
       "      <th>25</th>\n",
       "      <td>[o,s;x2;r5;!+;!-:1]([c;x2;r5;!$(*=*):2])[n;x2;...</td>\n",
       "      <td>o,s</td>\n",
       "      <td>[c:1]([c:2])[n;H1:3]</td>\n",
       "      <td>c1cnoc1,c1csnc1,c1c([*])snc1</td>\n",
       "      <td>[*]n1occc1=O,[*][n+]1ccco1,[*]n1c(=O)[nH]sc1=O...</td>\n",
       "      <td>aromatic oxygen or sulfur in 5 membered ring, ...</td>\n",
       "    </tr>\n",
       "    <tr>\n",
       "      <th>26</th>\n",
       "      <td>[o,s;x2;r5;!+;!-:1]([c;x2;r5:2])[n;x2;r5;+:3]</td>\n",
       "      <td>o,s</td>\n",
       "      <td>[c:1]([c:2])[n;+0:3]</td>\n",
       "      <td>[*][n+]1ccco1</td>\n",
       "      <td>NaN</td>\n",
       "      <td>aromatic oxygen or sulfur in 5 membered ring, ...</td>\n",
       "    </tr>\n",
       "    <tr>\n",
       "      <th>27</th>\n",
       "      <td>[s;x2;r5;!+;!-;$(*([c;r5])[n;h1;r5]):1]</td>\n",
       "      <td>s</td>\n",
       "      <td>[n;H1:1],[o:1]</td>\n",
       "      <td>[*]c1s[nH]c(=O)c1[*]</td>\n",
       "      <td>NaN</td>\n",
       "      <td>aromatic sulfur in 5 membered ring, bonded to ...</td>\n",
       "    </tr>\n",
       "    <tr>\n",
       "      <th>28</th>\n",
       "      <td>[o;x2;r5;!+;!-;$(*([c;r5])[n;h1;r5]):1]</td>\n",
       "      <td>o</td>\n",
       "      <td>[n;H1:1],[s:1]</td>\n",
       "      <td>[*]c1o[nH]c(=O)c1[*]</td>\n",
       "      <td>NaN</td>\n",
       "      <td>aromatic oxygen in 5 membered ring, bonded to ...</td>\n",
       "    </tr>\n",
       "    <tr>\n",
       "      <th>29</th>\n",
       "      <td>[s;x2;r5;!+;!-:1]([c;x2;r5:2])[n;x2;r5;h0;D3;!...</td>\n",
       "      <td>s</td>\n",
       "      <td>[n;H1:1]([c:2])[n:3],[o:1]([c:2])[n:3]</td>\n",
       "      <td>[*]n1sc(=O)n([*])c1=O</td>\n",
       "      <td>NaN</td>\n",
       "      <td>aromatic sulfur in 5 membered ring, bonded to ...</td>\n",
       "    </tr>\n",
       "    <tr>\n",
       "      <th>30</th>\n",
       "      <td>[o;x2;r5;!+;!-:1]([c;x2;r5:2])[n;x2;r5;h0;D3;!...</td>\n",
       "      <td>o</td>\n",
       "      <td>[n;H1:1]([c:2])[n:3],[s:1]([c:2])[n:3]</td>\n",
       "      <td>[*]n1oc(=O)n([*])c1=O</td>\n",
       "      <td>NaN</td>\n",
       "      <td>aromatic oxygen in 5 membered ring, bonded to ...</td>\n",
       "    </tr>\n",
       "    <tr>\n",
       "      <th>31</th>\n",
       "      <td>[o;r6:1]</td>\n",
       "      <td>o</td>\n",
       "      <td>[n;H1:1]</td>\n",
       "      <td>[*]c1cccc(=O)o1</td>\n",
       "      <td>NaN</td>\n",
       "      <td>aromatic oxygen in 6 membered ring</td>\n",
       "    </tr>\n",
       "  </tbody>\n",
       "</table>\n",
       "</div>"
      ],
      "text/plain": [
       "                                               SMARTS CONVERT_FROM  \\\n",
       "0              [c;x2;D2;r5:1]([n;x2;r5:2])[n;x2;r5:3]            c   \n",
       "1   [c;x2;D2;r5:1]([n;h1;!+;!-;x2;r5;!$(*=*);!$(*[...            c   \n",
       "2   [c;x2;D2;r5:1]([n;h1;!+;!-;x2;r5;!$(*=*);!$(*[...            c   \n",
       "3            [c;x2;D2;r5:1]([c;x2;r5:2])[o,s;x2;r5:3]            c   \n",
       "4           [c;x2;D2;r5:1]([c;r5:2])[n;r5;h0;!-;!+:3]            c   \n",
       "5         [c;x2;D2;r5:1]([c;x2;r5:2])[n;x2;r5;h1;+:3]            c   \n",
       "6           [c;x2;D2;r5:1]([c:2])[n;x2;r5;h1;!+;!-:3]            c   \n",
       "7   [c;x2;D2;r5:1]([c;x2;r5;!$(*=*);!$(*[*;r5]=*);...            c   \n",
       "8         [c;x2;D2;r5:1]([c;x2;r5:2])[n;h0;+;x2;r5:3]            c   \n",
       "9   [c;x2;D2;r5:1]([c;x2;r5:2])[n;h0;+;x2;r5:3][n;...            c   \n",
       "10  [c;x2;D2;r5:1]([c;x2;r5:2])[c;x2;r5:3][o,s;x2;...            c   \n",
       "11  [!o;!s;r5:1]1~[c;r5:2]~[c;x2;D2;r5:3]~[c;r5:4]...            c   \n",
       "12  [n;h1;!+;!-;r5:1]1~[c;!$(*=*);r5:2]~[c;x2;D2;r...            c   \n",
       "13  [c;h1;D2;r6;$(a1ccc[c,n,o][c,n,o]1),$(a1cc[c,n...            c   \n",
       "14                    [n;x2;r5;h1;!+;!-;!$(*[o,s]):1]            n   \n",
       "15           [n;x2;X2;r5;h0;!+;!-;$(*[a;r5][a;r5]):1]            n   \n",
       "16                                                NaN            n   \n",
       "17                  [n;x2;X3;r5;+;$(*[a;r5][a;r5]):1]            n   \n",
       "18           [n;x2;X2;r6;h0;!+;!-;$(*[a;r6][a;r6]):1]            n   \n",
       "19                                                NaN            n   \n",
       "20                  [n;x2;r6;h1;+;$(*[a;r6][a;r6]):1]            n   \n",
       "21                  [n;x2;r6;X3;+;$(*[a;r6][a;r6]):1]            n   \n",
       "22                                                NaN            n   \n",
       "23               [s;x2;r5;!+;!-;$(*([c;r5])[c;r5]):1]            s   \n",
       "24               [o;x2;r5;!+;!-;$(*([c;r5])[c;r5]):1]            o   \n",
       "25  [o,s;x2;r5;!+;!-:1]([c;x2;r5;!$(*=*):2])[n;x2;...          o,s   \n",
       "26      [o,s;x2;r5;!+;!-:1]([c;x2;r5:2])[n;x2;r5;+:3]          o,s   \n",
       "27            [s;x2;r5;!+;!-;$(*([c;r5])[n;h1;r5]):1]            s   \n",
       "28            [o;x2;r5;!+;!-;$(*([c;r5])[n;h1;r5]):1]            o   \n",
       "29  [s;x2;r5;!+;!-:1]([c;x2;r5:2])[n;x2;r5;h0;D3;!...            s   \n",
       "30  [o;x2;r5;!+;!-:1]([c;x2;r5:2])[n;x2;r5;h0;D3;!...            o   \n",
       "31                                           [o;r6:1]            o   \n",
       "\n",
       "                                           CONVERT_TO  \\\n",
       "0                                   [n:1]([n:2])[n:3]   \n",
       "1     [o:1]([n;H0:2])[n;H0:3],[s:1]([n;H0:2])[n;H0:3]   \n",
       "2     [o:1]([n;H0:2])[n;H0:3],[s:1]([n;H0:2])[n;H0:3]   \n",
       "3                                   [n:1]([c:2])[*:3]   \n",
       "4                                   [n:1]([c:2])[n:3]   \n",
       "5                                   [n:1]([c:2])[n:3]   \n",
       "6                                   [n:1]([c:2])[n:3]   \n",
       "7           [o:1]([c:2])[n;H0:3],[s:1]([c:2])[n;H0:3]   \n",
       "8                                   [n:1]([c:2])[n:3]   \n",
       "9   [o:1]([c:2])[n:3][n;H0:4],[s:1]([c:2])[n:3][n;...   \n",
       "10                             [n:1]([c:2])[c:3][*:4]   \n",
       "11                   [*:1]1~[c:2]~[n:3]~[c:4]~[*:5]~1   \n",
       "12  [n;H0:1]1~[c:2]~[o:3]~[c:4]~[*:5]1,[n;H0:1]1~[...   \n",
       "13                                              [n:1]   \n",
       "14                                        [o:1],[s:1]   \n",
       "15                                              [c:1]   \n",
       "16                                       No mutations   \n",
       "17                                              [c:1]   \n",
       "18                                              [c:1]   \n",
       "19                                       No mutations   \n",
       "20                                              [c:1]   \n",
       "21                                              [c:1]   \n",
       "22                                       No mutations   \n",
       "23                                     [n;H1:1],[o:1]   \n",
       "24                                     [n;H1:1],[s:1]   \n",
       "25                               [c:1]([c:2])[n;H1:3]   \n",
       "26                               [c:1]([c:2])[n;+0:3]   \n",
       "27                                     [n;H1:1],[o:1]   \n",
       "28                                     [n;H1:1],[s:1]   \n",
       "29             [n;H1:1]([c:2])[n:3],[o:1]([c:2])[n:3]   \n",
       "30             [n;H1:1]([c:2])[n:3],[s:1]([c:2])[n:3]   \n",
       "31                                           [n;H1:1]   \n",
       "\n",
       "                                              EXAMPLE  \\\n",
       "0                c1nc[nH]c1,c1ncn([*])c1,c1nncn([*])1   \n",
       "1                            c1nc[nH]c1,[*]c1nc[nH]c1   \n",
       "2                                  c1ccc2c(c1)[nH]cn2   \n",
       "3                    [*]c1ccoc1,c1ccoc1[*],n1ccoc1[*]   \n",
       "4   c1nc[nH]c1[*],n1cc[nH]c1[*],n1cc[nH][n+]1[*],[...   \n",
       "5                   c1c([*])sc[nH+]1,c1csc([*])[nH+]1   \n",
       "6   [*]n1[nH]ccc1=O,[*]n1cc[nH]c1=O,[*]c1nc2[nH]cc...   \n",
       "7   [*]c1ccc[nH]1,[*]c1ncc[nH]1,[*][n+]1ccc[nH]1,[...   \n",
       "8         CC[n+]1ccco1,[*][n+]1ccco1,[*][n+]1ccc[nH]1   \n",
       "9                                    [*][n+]1ccc[nH]1   \n",
       "10                               s1cccn1,o1c([*])ccn1   \n",
       "11         [*]c1cc[nH]c1,[*]n1cccc1,[*]n1ccc2nccc-2c1   \n",
       "12                      c1cc[nH]c1,c1ccc2c(c1)cc[nH]2   \n",
       "13  c1ccccc1,c1cccnc1,c1nccnc1,[*]c1cc(=O)cco1,c1c...   \n",
       "14                              c1n[nH]nn1,c1cc[nH]c1   \n",
       "15                                         c1cnc[nH]1   \n",
       "16                                                NaN   \n",
       "17                                        c1coc[n+]1C   \n",
       "18                                  c1cccnc1,c1nccnc1   \n",
       "19                                                NaN   \n",
       "20                               c1ccc2c(c1)ccc[nH+]2   \n",
       "21                               [*][n+]1cccc2c1cccc2   \n",
       "22                                                NaN   \n",
       "23                                    c1ccsc1,c1ncsc1   \n",
       "24                                    c1ccoc1,c1ncoc1   \n",
       "25                       c1cnoc1,c1csnc1,c1c([*])snc1   \n",
       "26                                      [*][n+]1ccco1   \n",
       "27                               [*]c1s[nH]c(=O)c1[*]   \n",
       "28                               [*]c1o[nH]c(=O)c1[*]   \n",
       "29                              [*]n1sc(=O)n([*])c1=O   \n",
       "30                              [*]n1oc(=O)n([*])c1=O   \n",
       "31                                    [*]c1cccc(=O)o1   \n",
       "\n",
       "                                     NEGATIVE_EXAMPLE  \\\n",
       "0                                                 NaN   \n",
       "1   [*]c1ncno1,[*]n1[nH]cnc1=O,[*]c1nc2[nH]cnn2c(=...   \n",
       "2   [*]c1ncno1,[*]n1[nH]cnc1=O,[*]c1nc2[nH]cnn2c(=...   \n",
       "3                                                 NaN   \n",
       "4                                                 NaN   \n",
       "5                                                 NaN   \n",
       "6                                 [*]c1cn2ccnc2nc1[*]   \n",
       "7   c1ccc2c(c1)cc[nH]2,[*]n1[nH]ccc1=O,[*]n1cc[nH]...   \n",
       "8                                                 NaN   \n",
       "9                          CC[n+]1ccco1,[*][n+]1ccco1   \n",
       "10                                       s1cc([*])cn1   \n",
       "11                                                NaN   \n",
       "12       [*]n1cccc1,[*]n1cc([*])cc1,[*]n1ccc(=O)[nH]1   \n",
       "13                                                NaN   \n",
       "14                  c1ccn([*])c1,[*]c1o[nH]c(=O)c1[*]   \n",
       "15                                       c1ccn([*])c1   \n",
       "16                                                NaN   \n",
       "17                                                NaN   \n",
       "18                                                NaN   \n",
       "19                                                NaN   \n",
       "20                                                NaN   \n",
       "21                                                NaN   \n",
       "22                                                NaN   \n",
       "23                                                NaN   \n",
       "24                                                NaN   \n",
       "25  [*]n1occc1=O,[*][n+]1ccco1,[*]n1c(=O)[nH]sc1=O...   \n",
       "26                                                NaN   \n",
       "27                                                NaN   \n",
       "28                                                NaN   \n",
       "29                                                NaN   \n",
       "30                                                NaN   \n",
       "31                                                NaN   \n",
       "\n",
       "                                          DESCRIPTION  \n",
       "0   aromatic carbon in 5 membered ring, bonded to ...  \n",
       "1   aromatic carbon in 5 membered ring, bonded to ...  \n",
       "2   aromatic carbon in 5 membered ring, bonded to ...  \n",
       "3   aromatic carbon in 5 membered ring, bonded to ...  \n",
       "4   aromatic carbon in 5 membered ring, bonded to ...  \n",
       "5   aromatic carbon in 5 membered ring, bonded to ...  \n",
       "6   aromatic carbon in 5 membered ring, bonded to ...  \n",
       "7   aromatic carbon in 5 membered ring, bonded to ...  \n",
       "8   aromatic carbon in 5 membered ring, bonded to ...  \n",
       "9   aromatic carbon in 5 membered ring, bonded to ...  \n",
       "10  aromatic carbon in 5 membered ring, bonded to ...  \n",
       "11  aromatic carbon in 5 membered ring, bonded to ...  \n",
       "12  aromatic carbon in 5 membered ring, bonded to ...  \n",
       "13  aromatic carbon in 6 membered ring, has 1H, ri...  \n",
       "14  aromatic nitrogen in 5 membered ring, 1H, no c...  \n",
       "15  aromatic nitrogen in 5 membered ring, bonded t...  \n",
       "16  aromatic nitrogen in 5 membered ring, bonded t...  \n",
       "17  aromatic nitrogen in 5 membered ring, bonded t...  \n",
       "18  aromatic nitrogen in 6 membered ring, bonded t...  \n",
       "19  aromatic nitrogen in 6 membered ring, bonded t...  \n",
       "20  aromatic nitrogen in 6 membered ring, bonded t...  \n",
       "21  aromatic nitrogen in 6 membered ring, bonded t...  \n",
       "22  aromatic nitrogen in 6 membered ring, bonded t...  \n",
       "23  aromatic sulfur in 5 membered ring, bonded to ...  \n",
       "24  aromatic oxygen in 5 membered ring, bonded to ...  \n",
       "25  aromatic oxygen or sulfur in 5 membered ring, ...  \n",
       "26  aromatic oxygen or sulfur in 5 membered ring, ...  \n",
       "27  aromatic sulfur in 5 membered ring, bonded to ...  \n",
       "28  aromatic oxygen in 5 membered ring, bonded to ...  \n",
       "29  aromatic sulfur in 5 membered ring, bonded to ...  \n",
       "30  aromatic oxygen in 5 membered ring, bonded to ...  \n",
       "31                 aromatic oxygen in 6 membered ring  "
      ]
     },
     "execution_count": 5,
     "metadata": {},
     "output_type": "execute_result"
    }
   ],
   "source": [
    "import pandas as pd\n",
    "csvfile = '../data/heterocycle_reactions.csv'\n",
    "pd.read_csv(csvfile)"
   ]
  },
  {
   "cell_type": "markdown",
   "metadata": {},
   "source": [
    "Read all the patterns into RDKit reactions"
   ]
  },
  {
   "cell_type": "code",
   "execution_count": 6,
   "metadata": {},
   "outputs": [],
   "source": [
    "import csv\n",
    "smarts_reader = csv.DictReader(open(csvfile))\n",
    "REACTIONS = []\n",
    "for row in smarts_reader:\n",
    "    smarts = row['SMARTS']\n",
    "    if not smarts:\n",
    "        continue\n",
    "\n",
    "    for product in row['CONVERT_TO'].split(','):\n",
    "        reaction = smarts + '>>' + product\n",
    "        REACTIONS.append(AllChem.ReactionFromSmarts(reaction))"
   ]
  },
  {
   "cell_type": "markdown",
   "metadata": {},
   "source": [
    "We only care about unique products, so deduplicate with canonical SMILES"
   ]
  },
  {
   "cell_type": "code",
   "execution_count": 7,
   "metadata": {},
   "outputs": [],
   "source": [
    "def get_unique_products(smiles):\n",
    "    mol = Chem.MolFromSmiles(smiles)\n",
    "    unique = set()\n",
    "    for rxn in REACTIONS:\n",
    "        for newmol in rxn.RunReactants((mol,)):\n",
    "            isosmi = Chem.MolToSmiles(newmol[0], isomericSmiles=True)\n",
    "            if isosmi in unique:\n",
    "                continue\n",
    "            unique.add(isosmi)\n",
    "            newmol = Chem.MolFromSmiles(isosmi)\n",
    "            yield Chem.MolToSmiles(newmol, isomericSmiles=True)"
   ]
  },
  {
   "cell_type": "markdown",
   "metadata": {},
   "source": [
    "A helper for drawing the one atom neighbors of a ring"
   ]
  },
  {
   "cell_type": "code",
   "execution_count": 8,
   "metadata": {},
   "outputs": [],
   "source": [
    "def show_one_atom_neighbors(smiles):\n",
    "    molsPerRow = 10\n",
    "    mol = Chem.MolFromSmiles(smiles)\n",
    "    mols = [mol] + [None] * (molsPerRow - 1)\n",
    "    rings = map(Chem.MolFromSmiles, sorted(get_unique_products(smiles)))\n",
    "    print(len(list(rings)), 'neighbors')\n",
    "    mols += rings\n",
    "    return Draw.MolsToGridImage(mols, molsPerRow=molsPerRow, subImgSize=(100, 100))"
   ]
  },
  {
   "cell_type": "code",
   "execution_count": 9,
   "metadata": {},
   "outputs": [
    {
     "name": "stdout",
     "output_type": "stream",
     "text": [
      "1 neighbors\n"
     ]
    },
    {
     "data": {
      "image/png": "[encoded data removed]",
      "text/plain": [
       "<IPython.core.display.Image object>"
      ]
     },
     "execution_count": 9,
     "metadata": {},
     "output_type": "execute_result"
    }
   ],
   "source": [
    "show_one_atom_neighbors('c1ccccc1')"
   ]
  },
  {
   "cell_type": "code",
   "execution_count": 10,
   "metadata": {},
   "outputs": [
    {
     "name": "stdout",
     "output_type": "stream",
     "text": [
      "4 neighbors\n"
     ]
    },
    {
     "data": {
      "image/png": "[encoded data removed]",
      "text/plain": [
       "<IPython.core.display.Image object>"
      ]
     },
     "execution_count": 10,
     "metadata": {},
     "output_type": "execute_result"
    }
   ],
   "source": [
    "show_one_atom_neighbors('n1ccccc1')"
   ]
  },
  {
   "cell_type": "code",
   "execution_count": 11,
   "metadata": {},
   "outputs": [
    {
     "name": "stdout",
     "output_type": "stream",
     "text": [
      "2 neighbors\n"
     ]
    },
    {
     "data": {
      "image/png": "[encoded data removed]",
      "text/plain": [
       "<IPython.core.display.Image object>"
      ]
     },
     "execution_count": 11,
     "metadata": {},
     "output_type": "execute_result"
    }
   ],
   "source": [
    "show_one_atom_neighbors('n1ccncc1')"
   ]
  },
  {
   "cell_type": "code",
   "execution_count": 12,
   "metadata": {},
   "outputs": [
    {
     "name": "stdout",
     "output_type": "stream",
     "text": [
      "3 neighbors\n"
     ]
    },
    {
     "data": {
      "image/png": "[encoded data removed]",
      "text/plain": [
       "<IPython.core.display.Image object>"
      ]
     },
     "execution_count": 12,
     "metadata": {},
     "output_type": "execute_result"
    }
   ],
   "source": [
    "show_one_atom_neighbors('n1ccnnc1')"
   ]
  },
  {
   "cell_type": "code",
   "execution_count": 13,
   "metadata": {},
   "outputs": [
    {
     "name": "stdout",
     "output_type": "stream",
     "text": [
      "4 neighbors\n"
     ]
    },
    {
     "data": {
      "image/png": "[encoded data removed]",
      "text/plain": [
       "<IPython.core.display.Image object>"
      ]
     },
     "execution_count": 13,
     "metadata": {},
     "output_type": "execute_result"
    }
   ],
   "source": [
    "show_one_atom_neighbors('c1ccoc1')"
   ]
  },
  {
   "cell_type": "markdown",
   "metadata": {},
   "source": [
    "### What about all the heterocyles for a given ring?\n",
    "Easy to extend the above to enumerate everything"
   ]
  },
  {
   "cell_type": "code",
   "execution_count": 14,
   "metadata": {},
   "outputs": [],
   "source": [
    "def enumerate_heterocycles(smi):\n",
    "    start = Chem.MolToSmiles(Chem.MolFromSmiles(smi), isomericSmiles=True)\n",
    "\n",
    "    starting_points = [start]\n",
    "    seen = set()\n",
    "    while starting_points:\n",
    "        for newmol_smiles in get_unique_products(starting_points.pop()):\n",
    "            if newmol_smiles in seen:\n",
    "                continue\n",
    "            starting_points.append(newmol_smiles)\n",
    "            seen.add(newmol_smiles)\n",
    "            yield newmol_smiles"
   ]
  },
  {
   "cell_type": "code",
   "execution_count": 15,
   "metadata": {},
   "outputs": [
    {
     "data": {
      "text/plain": [
       "['c1ccncc1',\n",
       " 'c1cnccn1',\n",
       " 'c1cncnc1',\n",
       " 'c1ccnnc1',\n",
       " 'c1ccccc1',\n",
       " 'c1cnncn1',\n",
       " 'c1cnnnc1',\n",
       " 'c1ncncn1']"
      ]
     },
     "execution_count": 15,
     "metadata": {},
     "output_type": "execute_result"
    }
   ],
   "source": [
    "list(enumerate_heterocycles('c1ccccc1'))"
   ]
  },
  {
   "cell_type": "code",
   "execution_count": 18,
   "metadata": {},
   "outputs": [],
   "source": [
    "def show_all(smi):\n",
    "    molsPerRow = 10\n",
    "    mol = Chem.MolFromSmiles(smi)\n",
    "    mols = [mol] + [None] * (molsPerRow - 1)\n",
    "    rings = map(Chem.MolFromSmiles, sorted(enumerate_heterocycles(smi)))\n",
    "    print(len(list(rings)), 'rings')\n",
    "    mols += rings\n",
    "    return Draw.MolsToGridImage(mols, molsPerRow=molsPerRow, subImgSize=(100, 100))"
   ]
  },
  {
   "cell_type": "markdown",
   "metadata": {},
   "source": [
    "### Simple 6-member rings\n",
    "All should generate the same 8 ring systems\n",
    "#### benzene"
   ]
  },
  {
   "cell_type": "code",
   "execution_count": 19,
   "metadata": {},
   "outputs": [
    {
     "name": "stdout",
     "output_type": "stream",
     "text": [
      "8 rings\n"
     ]
    },
    {
     "data": {
      "image/png": "[encoded data removed]",
      "text/plain": [
       "<IPython.core.display.Image object>"
      ]
     },
     "execution_count": 19,
     "metadata": {},
     "output_type": "execute_result"
    }
   ],
   "source": [
    "show_all('c1ccccc1')"
   ]
  },
  {
   "cell_type": "markdown",
   "metadata": {},
   "source": [
    "#### pyridine"
   ]
  },
  {
   "cell_type": "code",
   "execution_count": 20,
   "metadata": {},
   "outputs": [
    {
     "name": "stdout",
     "output_type": "stream",
     "text": [
      "8 rings\n"
     ]
    },
    {
     "data": {
      "image/png": "[encoded data removed]",
      "text/plain": [
       "<IPython.core.display.Image object>"
      ]
     },
     "execution_count": 20,
     "metadata": {},
     "output_type": "execute_result"
    }
   ],
   "source": [
    "show_all('c1ccncc1')"
   ]
  },
  {
   "cell_type": "markdown",
   "metadata": {},
   "source": [
    "#### pyrimidine"
   ]
  },
  {
   "cell_type": "code",
   "execution_count": 21,
   "metadata": {},
   "outputs": [
    {
     "name": "stdout",
     "output_type": "stream",
     "text": [
      "8 rings\n"
     ]
    },
    {
     "data": {
      "image/png": "[encoded data removed]",
      "text/plain": [
       "<IPython.core.display.Image object>"
      ]
     },
     "execution_count": 21,
     "metadata": {},
     "output_type": "execute_result"
    }
   ],
   "source": [
    "show_all('c1ccncn1')"
   ]
  },
  {
   "cell_type": "markdown",
   "metadata": {},
   "source": [
    "### Fused 6-member rings\n",
    "#### naphthalene"
   ]
  },
  {
   "cell_type": "code",
   "execution_count": 22,
   "metadata": {},
   "outputs": [
    {
     "name": "stdout",
     "output_type": "stream",
     "text": [
      "66 rings\n"
     ]
    },
    {
     "data": {
      "image/png": "[encoded data removed]",
      "text/plain": [
       "<IPython.core.display.Image object>"
      ]
     },
     "execution_count": 22,
     "metadata": {},
     "output_type": "execute_result"
    }
   ],
   "source": [
    "show_all('c1ccc2ccccc2c1')"
   ]
  },
  {
   "cell_type": "markdown",
   "metadata": {},
   "source": [
    "#### pteridine (from methotrexate)"
   ]
  },
  {
   "cell_type": "code",
   "execution_count": 23,
   "metadata": {},
   "outputs": [
    {
     "name": "stdout",
     "output_type": "stream",
     "text": [
      "66 rings\n"
     ]
    },
    {
     "data": {
      "image/png": "[encoded data removed]",
      "text/plain": [
       "<IPython.core.display.Image object>"
      ]
     },
     "execution_count": 23,
     "metadata": {},
     "output_type": "execute_result"
    }
   ],
   "source": [
    "show_all('c1cnc2c(n1)cncn2')"
   ]
  },
  {
   "cell_type": "markdown",
   "metadata": {},
   "source": [
    "### Fused 5,6 member rings\n",
    "Easy so far, time for something more interesting...\n",
    "#### benzimidazole"
   ]
  },
  {
   "cell_type": "code",
   "execution_count": 24,
   "metadata": {},
   "outputs": [
    {
     "name": "stdout",
     "output_type": "stream",
     "text": [
      "279 rings\n"
     ]
    },
    {
     "data": {
      "image/png": "[encoded data removed]",
      "text/plain": [
       "<IPython.core.display.Image object>"
      ]
     },
     "execution_count": 24,
     "metadata": {},
     "output_type": "execute_result"
    }
   ],
   "source": [
    "show_all('c1ccc2c(c1)[nH]cn2')"
   ]
  },
  {
   "cell_type": "markdown",
   "metadata": {},
   "source": [
    "#### indole"
   ]
  },
  {
   "cell_type": "code",
   "execution_count": 25,
   "metadata": {},
   "outputs": [
    {
     "name": "stdout",
     "output_type": "stream",
     "text": [
      "279 rings\n"
     ]
    },
    {
     "data": {
      "image/png": "[encoded data removed]",
      "text/plain": [
       "<IPython.core.display.Image object>"
      ]
     },
     "execution_count": 25,
     "metadata": {},
     "output_type": "execute_result"
    }
   ],
   "source": [
    "show_all('c1ccc2c(c1)cc[nH]2')"
   ]
  },
  {
   "cell_type": "markdown",
   "metadata": {},
   "source": [
    "#### isobenzofuran"
   ]
  },
  {
   "cell_type": "code",
   "execution_count": 26,
   "metadata": {},
   "outputs": [
    {
     "name": "stdout",
     "output_type": "stream",
     "text": [
      "279 rings\n"
     ]
    },
    {
     "data": {
      "image/png": "[encoded data removed]",
      "text/plain": [
       "<IPython.core.display.Image object>"
      ]
     },
     "execution_count": 26,
     "metadata": {},
     "output_type": "execute_result"
    }
   ],
   "source": [
    "show_all('c1ccc2cocc2c1')"
   ]
  },
  {
   "cell_type": "markdown",
   "metadata": {},
   "source": [
    "#### 2H-isoindole"
   ]
  },
  {
   "cell_type": "code",
   "execution_count": 27,
   "metadata": {},
   "outputs": [
    {
     "name": "stdout",
     "output_type": "stream",
     "text": [
      "279 rings\n"
     ]
    },
    {
     "data": {
      "image/png": "[encoded data removed]",
      "text/plain": [
       "<IPython.core.display.Image object>"
      ]
     },
     "execution_count": 27,
     "metadata": {},
     "output_type": "execute_result"
    }
   ],
   "source": [
    "show_all('c1ccc2c[nH]cc2c1')"
   ]
  },
  {
   "cell_type": "markdown",
   "metadata": {},
   "source": [
    "### Attachment points can reduce that number\n",
    "Attachment points affect what can be changed around"
   ]
  },
  {
   "cell_type": "code",
   "execution_count": 28,
   "metadata": {},
   "outputs": [
    {
     "name": "stdout",
     "output_type": "stream",
     "text": [
      "96 rings\n"
     ]
    },
    {
     "data": {
      "image/png": "[encoded data removed]",
      "text/plain": [
       "<IPython.core.display.Image object>"
      ]
     },
     "execution_count": 28,
     "metadata": {},
     "output_type": "execute_result"
    }
   ],
   "source": [
    "show_all('[*]c1c2c(ncn1)[nH](c([*])n2)')"
   ]
  },
  {
   "cell_type": "markdown",
   "metadata": {},
   "source": [
    "Different attachment points lead to different sets "
   ]
  },
  {
   "cell_type": "code",
   "execution_count": 29,
   "metadata": {},
   "outputs": [
    {
     "name": "stdout",
     "output_type": "stream",
     "text": [
      "32 rings\n"
     ]
    },
    {
     "data": {
      "image/png": "[encoded data removed]",
      "text/plain": [
       "<IPython.core.display.Image object>"
      ]
     },
     "execution_count": 29,
     "metadata": {},
     "output_type": "execute_result"
    }
   ],
   "source": [
    "show_all('[*]c1c2c(ncn1)n(cn2)([*])')"
   ]
  },
  {
   "cell_type": "markdown",
   "metadata": {},
   "source": [
    "Attachment points on nitrogens are particularly tricky"
   ]
  },
  {
   "cell_type": "code",
   "execution_count": 30,
   "metadata": {},
   "outputs": [
    {
     "name": "stdout",
     "output_type": "stream",
     "text": [
      "48 rings\n"
     ]
    },
    {
     "data": {
      "image/png": "[encoded data removed]",
      "text/plain": [
       "<IPython.core.display.Image object>"
      ]
     },
     "execution_count": 30,
     "metadata": {},
     "output_type": "execute_result"
    }
   ],
   "source": [
    "show_all('[*]c1coc2c1ncnc2[*]')"
   ]
  },
  {
   "cell_type": "code",
   "execution_count": 31,
   "metadata": {},
   "outputs": [
    {
     "name": "stdout",
     "output_type": "stream",
     "text": [
      "48 rings\n"
     ]
    },
    {
     "data": {
      "image/png": "[encoded data removed]",
      "text/plain": [
       "<IPython.core.display.Image object>"
      ]
     },
     "execution_count": 31,
     "metadata": {},
     "output_type": "execute_result"
    }
   ],
   "source": [
    "show_all('[nH]1cccc1[*]')"
   ]
  },
  {
   "cell_type": "code",
   "execution_count": 32,
   "metadata": {},
   "outputs": [
    {
     "name": "stdout",
     "output_type": "stream",
     "text": [
      "48 rings\n"
     ]
    },
    {
     "data": {
      "image/png": "[encoded data removed]",
      "text/plain": [
       "<IPython.core.display.Image object>"
      ]
     },
     "execution_count": 32,
     "metadata": {},
     "output_type": "execute_result"
    }
   ],
   "source": [
    "show_all('o1cccc1[*]')"
   ]
  },
  {
   "cell_type": "markdown",
   "metadata": {},
   "source": [
    "## Known Problems"
   ]
  },
  {
   "cell_type": "markdown",
   "metadata": {},
   "source": [
    "#### Sometimes there can be too many heteroatoms\n",
    "Ideally we should have least 1 carbon left in these, oxa and thia triazoles are out there"
   ]
  },
  {
   "cell_type": "code",
   "execution_count": 33,
   "metadata": {},
   "outputs": [
    {
     "name": "stdout",
     "output_type": "stream",
     "text": [
      "30 rings\n"
     ]
    },
    {
     "data": {
      "image/png": "[encoded data removed]",
      "text/plain": [
       "<IPython.core.display.Image object>"
      ]
     },
     "execution_count": 33,
     "metadata": {},
     "output_type": "execute_result"
    }
   ],
   "source": [
    "show_all('o1cccc1')"
   ]
  },
  {
   "cell_type": "markdown",
   "metadata": {},
   "source": [
    "#### Carbonyls\n",
    "Carbonyls are handled, just not created or destroyed"
   ]
  },
  {
   "cell_type": "code",
   "execution_count": 34,
   "metadata": {},
   "outputs": [
    {
     "name": "stdout",
     "output_type": "stream",
     "text": [
      "12 rings\n"
     ]
    },
    {
     "data": {
      "image/png": "[encoded data removed]",
      "text/plain": [
       "<IPython.core.display.Image object>"
      ]
     },
     "execution_count": 34,
     "metadata": {},
     "output_type": "execute_result"
    }
   ],
   "source": [
    "show_all('[*]n1nc[nH]c1=O')"
   ]
  },
  {
   "cell_type": "code",
   "execution_count": 35,
   "metadata": {},
   "outputs": [
    {
     "name": "stdout",
     "output_type": "stream",
     "text": [
      "60 rings\n"
     ]
    },
    {
     "data": {
      "image/png": "[encoded data removed]",
      "text/plain": [
       "<IPython.core.display.Image object>"
      ]
     },
     "execution_count": 35,
     "metadata": {},
     "output_type": "execute_result"
    }
   ],
   "source": [
    "show_all('c1ccc2c(c1)ccc(=O)[nH]2')"
   ]
  },
  {
   "cell_type": "code",
   "execution_count": 36,
   "metadata": {},
   "outputs": [
    {
     "name": "stdout",
     "output_type": "stream",
     "text": [
      "16 rings\n"
     ]
    },
    {
     "data": {
      "image/png": "[encoded data removed]",
      "text/plain": [
       "<IPython.core.display.Image object>"
      ]
     },
     "execution_count": 36,
     "metadata": {},
     "output_type": "execute_result"
    }
   ],
   "source": [
    "show_all('[*]c1c2c(nc(n1)[*])n(c(=O)cn2)[*]')"
   ]
  },
  {
   "cell_type": "markdown",
   "metadata": {},
   "source": [
    "#### Future work: a rule to create and destroy carbonyls\n",
    "Current draft: \n",
    "- 5,6,(5,6),(6,6): aromatic carbon next to aromatic nitrogen that is not trivalent\n",
    "- 6,(6,6): aromatic carbon with nitrogen in same ring (trickier!)"
   ]
  },
  {
   "cell_type": "markdown",
   "metadata": {},
   "source": [
    "#### Future work: a rule to handle bridgehead nitrogens"
   ]
  },
  {
   "cell_type": "code",
   "execution_count": 37,
   "metadata": {},
   "outputs": [
    {
     "name": "stdout",
     "output_type": "stream",
     "text": [
      "96 rings\n"
     ]
    },
    {
     "data": {
      "image/png": "[encoded data removed]",
      "text/plain": [
       "<IPython.core.display.Image object>"
      ]
     },
     "execution_count": 37,
     "metadata": {},
     "output_type": "execute_result"
    }
   ],
   "source": [
    "show_all('c1cnn2c1[nH]cc2')"
   ]
  },
  {
   "cell_type": "code",
   "execution_count": 38,
   "metadata": {},
   "outputs": [
    {
     "name": "stdout",
     "output_type": "stream",
     "text": [
      "156 rings\n"
     ]
    },
    {
     "data": {
      "image/png": "[encoded data removed]",
      "text/plain": [
       "<IPython.core.display.Image object>"
      ]
     },
     "execution_count": 38,
     "metadata": {},
     "output_type": "execute_result"
    }
   ],
   "source": [
    "show_all('c1csc2c1[nH]nc2')"
   ]
  },
  {
   "cell_type": "markdown",
   "metadata": {},
   "source": [
    "#### Test suite\n",
    "Contributions welcome: where is the correct home for this?"
   ]
  },
  {
   "cell_type": "code",
   "execution_count": 39,
   "metadata": {},
   "outputs": [
    {
     "data": {
      "text/plain": [
       "['/bin/bash: py.test: command not found']"
      ]
     },
     "execution_count": 39,
     "metadata": {},
     "output_type": "execute_result"
    }
   ],
   "source": [
    "%system py.test -s -v"
   ]
  },
  {
   "cell_type": "code",
   "execution_count": null,
   "metadata": {},
   "outputs": [],
   "source": []
  }
 ],
 "metadata": {
  "kernelspec": {
   "display_name": "Python [conda env:.conda-rdkit]",
   "language": "python",
   "name": "conda-env-.conda-rdkit-py"
  },
  "language_info": {
   "codemirror_mode": {
    "name": "ipython",
    "version": 3
   },
   "file_extension": ".py",
   "mimetype": "text/x-python",
   "name": "python",
   "nbconvert_exporter": "python",
   "pygments_lexer": "ipython3",
   "version": "3.9.7"
  }
 },
 "nbformat": 4,
 "nbformat_minor": 2
}
